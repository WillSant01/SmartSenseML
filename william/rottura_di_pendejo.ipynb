{
 "cells": [
  {
   "cell_type": "code",
   "execution_count": null,
   "metadata": {
    "vscode": {
     "languageId": "plaintext"
    }
   },
   "outputs": [],
   "source": [
    "import pandas as pd\n",
    "import numpy as np\n",
    "import matplotlib.pyplot as plt\n",
    "import seaborn as sns"
   ]
  },
  {
   "cell_type": "code",
   "execution_count": null,
   "metadata": {
    "vscode": {
     "languageId": "plaintext"
    }
   },
   "outputs": [],
   "source": [
    "# INSERIRE IL PATH GESTURE PRECISO DA ANALIZZARE\n",
    "file = r\"C:\\Users\\WilliamSanteramo\\OneDrive - ITS Angelo Rizzoli\\Documenti\\UFS\\15 IoT\\SmartSenseML\\roberto\\LEFT\\left1.csv\"\n",
    "\n",
    "df = pd.read_csv(file, index_col=0)\n",
    "df.drop('Timestamp', axis=1, inplace=True)"
   ]
  },
  {
   "cell_type": "code",
   "execution_count": null,
   "metadata": {
    "vscode": {
     "languageId": "plaintext"
    }
   },
   "outputs": [],
   "source": [
    "# ANDAMENTO COMPLETO ---> VEDERE DOVE ANDARE A TAGLIARE IN DUE (non tagliare i gesti)\n",
    "plt.figure(figsize=(14, 7))\n",
    "plt.plot(df.index, df['AccX'], label='AccX', color='black')\n",
    "plt.plot(df.index, df['AccY'], label='AccY', color='brown')\n",
    "plt.plot(df.index, df['AccZ'], label='AccZ', color='orange')\n",
    "\n",
    "plt.plot(df.index, df['GyroX'], label='GyroX', color='blue')\n",
    "plt.plot(df.index, df['GyroY'], label='GyroY', color='green')\n",
    "plt.plot(df.index, df['GyroZ'], label='GyroZ', color='red')\n",
    "\n",
    "plt.xlabel('N° record')\n",
    "plt.ylabel('Valore')\n",
    "plt.title('VEDI dove dividerlo a metà')\n",
    "\n",
    "plt.xticks(np.arange(0, len(df), step=25))  # Usa un passo più piccolo se vuoi più dettagli\n",
    "plt.xticks(rotation=45)  # Rotazione per evitare sovrapposizione dei tick\n",
    "\n",
    "plt.legend()\n",
    "plt.grid(True)\n",
    "\n",
    "plt.show()"
   ]
  },
  {
   "cell_type": "code",
   "execution_count": null,
   "metadata": {
    "vscode": {
     "languageId": "plaintext"
    }
   },
   "outputs": [],
   "source": [
    "# Determina il punto di divisione (per esempio, 421 o un altro valore)\n",
    "num_fortunato = 460  # Sostituire con il punto di divisione scelto\n",
    "\n",
    "df1 = df.iloc[:num_fortunato,:]\n",
    "df2 = df.iloc[num_fortunato:,:]"
   ]
  },
  {
   "cell_type": "code",
   "execution_count": null,
   "metadata": {
    "vscode": {
     "languageId": "plaintext"
    }
   },
   "outputs": [],
   "source": [
    "# ANDAMENTO PRIMA PARTE --> SCRIVERE I RANGE SU CARTA (SALTI DI 50 OBBLIGATORI)\n",
    "plt.figure(figsize=(20, 7))\n",
    "plt.plot(df1.index, df1['AccX'], label='AccX', color='black')\n",
    "plt.plot(df1.index, df1['AccY'], label='AccY', color='brown')\n",
    "plt.plot(df1.index, df1['AccZ'], label='AccZ', color='orange')\n",
    "\n",
    "plt.plot(df1.index, df1['GyroX'], label='GyroX', color='blue')\n",
    "plt.plot(df1.index, df1['GyroY'], label='GyroY', color='green')\n",
    "plt.plot(df1.index, df1['GyroZ'], label='GyroZ', color='red')\n",
    "\n",
    "# Personalizza l'asse x per una maggiore densità di tick\n",
    "plt.xlabel('Timestamp')\n",
    "plt.ylabel('Valore')\n",
    "plt.title('PRENDI CARTA E PENNA 1')\n",
    "\n",
    "# Imposta i tick ogni 10 unità, cambia il passo se necessario\n",
    "plt.xticks(np.arange(0, len(df1), step=10))  # Usa un passo più piccolo se vuoi più dettagli\n",
    "plt.xticks(rotation=45)  # Rotazione per evitare sovrapposizione dei tick\n",
    "\n",
    "# Mostra la legenda e la griglia\n",
    "plt.legend()\n",
    "plt.grid(True)\n",
    "\n",
    "# Mostra il grafico\n",
    "plt.show()"
   ]
  },
  {
   "cell_type": "code",
   "execution_count": null,
   "metadata": {
    "vscode": {
     "languageId": "plaintext"
    }
   },
   "outputs": [],
   "source": [
    "# ANDAMENTO SECONDA PARTE --> SCRIVERE I RANGE SU CARTA (SALTI DI 50 OBBLIGATORI)\n",
    "plt.figure(figsize=(20, 7))\n",
    "plt.plot(df2.index, df2['AccX'], label='AccX', color='black')\n",
    "plt.plot(df2.index, df2['AccY'], label='AccY', color='brown')\n",
    "plt.plot(df2.index, df2['AccZ'], label='AccZ', color='orange')\n",
    "\n",
    "plt.plot(df2.index, df2['GyroX'], label='GyroX', color='blue')\n",
    "plt.plot(df2.index, df2['GyroY'], label='GyroY', color='green')\n",
    "plt.plot(df2.index, df2['GyroZ'], label='GyroZ', color='red')\n",
    "\n",
    "# Personalizza l'asse x per una maggiore densità di tick\n",
    "plt.xlabel('Timestamp')\n",
    "plt.ylabel('Valore')\n",
    "plt.title('CHE ANDIAMO ANALOGICI 2')\n",
    "\n",
    "# Imposta i tick ogni 10 unità, cambia il passo se necessario\n",
    "plt.xticks(np.arange(0+num_fortunato, len(df2)+num_fortunato, step=10))  # Usa un passo più piccolo se vuoi più dettagli\n",
    "plt.xticks(rotation=45)  # Rotazione per evitare sovrapposizione dei tick\n",
    "\n",
    "# Mostra la legenda e la griglia\n",
    "plt.legend()\n",
    "plt.grid(True)\n",
    "\n",
    "# Mostra il grafico\n",
    "plt.show()"
   ]
  },
  {
   "cell_type": "code",
   "execution_count": null,
   "metadata": {
    "vscode": {
     "languageId": "plaintext"
    }
   },
   "outputs": [],
   "source": [
    "print(\"Speriamo bene\")"
   ]
  }
 ],
 "metadata": {
  "language_info": {
   "name": "python"
  }
 },
 "nbformat": 4,
 "nbformat_minor": 2
}
