{
 "cells": [
  {
   "cell_type": "code",
   "execution_count": null,
   "metadata": {
    "vscode": {
     "languageId": "plaintext"
    }
   },
   "outputs": [],
   "source": [
    "import pandas as pd\n",
    "import numpy as np\n",
    "import matplotlib.pyplot as plt\n",
    "import seaborn as sns"
   ]
  },
  {
   "cell_type": "code",
   "execution_count": null,
   "metadata": {
    "vscode": {
     "languageId": "plaintext"
    }
   },
   "outputs": [],
   "source": [
    "file = r\"C:\\Users\\WilliamSanteramo\\OneDrive - ITS Angelo Rizzoli\\Documenti\\UFS\\15 IoT\\SmartSenseML\\roberto\\RIGHT\\right1.csv\"\n",
    "\n",
    "df = pd.read_csv(file, index_col=0).iloc[:500, :]\n",
    "df.drop('Timestamp', axis=1, inplace=True)"
   ]
  },
  {
   "cell_type": "code",
   "execution_count": null,
   "metadata": {
    "vscode": {
     "languageId": "plaintext"
    }
   },
   "outputs": [],
   "source": [
    "# ANDAMENTO COMPLETO ---> VEDERE DOVE ANDARE A TAGLIARE IN DUE (non tagliare i gesti)\n",
    "plt.figure(figsize=(14, 7))\n",
    "#plt.plot(df.index, df['AccX'], label='AccX', color='black')\n",
    "#plt.plot(df.index, df['AccY'], label='AccY', color='brown')\n",
    "#plt.plot(df.index, df['AccZ'], label='AccZ', color='orange')\n",
    "\n",
    "plt.plot(df.index, df['GyroX'], label='GyroX', color='blue')\n",
    "plt.plot(df.index, df['GyroY'], label='GyroY', color='green')\n",
    "plt.plot(df.index, df['GyroZ'], label='GyroZ', color='red')\n",
    "\n",
    "plt.xlabel('N° record')\n",
    "plt.ylabel('Valore')\n",
    "plt.title('RIGHT 1')\n",
    "\n",
    "plt.xticks(np.arange(0, len(df), step=10))  # Usa un passo più piccolo se vuoi più dettagli\n",
    "plt.xticks(rotation=45)  # Rotazione per evitare sovrapposizione dei tick\n",
    "\n",
    "plt.legend()\n",
    "plt.grid(True)\n",
    "\n",
    "plt.show()"
   ]
  }
 ],
 "metadata": {
  "language_info": {
   "name": "python"
  }
 },
 "nbformat": 4,
 "nbformat_minor": 2
}
