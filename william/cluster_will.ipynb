{
 "cells": [
  {
   "cell_type": "code",
   "execution_count": 1,
   "metadata": {},
   "outputs": [],
   "source": [
    "import pandas as pd\n",
    "import numpy as np\n",
    "import matplotlib.pyplot as plt\n",
    "from sklearn.preprocessing import StandardScaler\n",
    "from sklearn.cluster import KMeans\n",
    "from sklearn.decomposition import PCA"
   ]
  },
  {
   "cell_type": "code",
   "execution_count": null,
   "metadata": {},
   "outputs": [
    {
     "data": {
      "text/html": [
       "<div>\n",
       "<style scoped>\n",
       "    .dataframe tbody tr th:only-of-type {\n",
       "        vertical-align: middle;\n",
       "    }\n",
       "\n",
       "    .dataframe tbody tr th {\n",
       "        vertical-align: top;\n",
       "    }\n",
       "\n",
       "    .dataframe thead th {\n",
       "        text-align: right;\n",
       "    }\n",
       "</style>\n",
       "<table border=\"1\" class=\"dataframe\">\n",
       "  <thead>\n",
       "    <tr style=\"text-align: right;\">\n",
       "      <th></th>\n",
       "      <th>AccX</th>\n",
       "      <th>AccY</th>\n",
       "      <th>AccZ</th>\n",
       "      <th>GyroX</th>\n",
       "      <th>GyroY</th>\n",
       "      <th>GyroZ</th>\n",
       "    </tr>\n",
       "    <tr>\n",
       "      <th>Timestamp</th>\n",
       "      <th></th>\n",
       "      <th></th>\n",
       "      <th></th>\n",
       "      <th></th>\n",
       "      <th></th>\n",
       "      <th></th>\n",
       "    </tr>\n",
       "  </thead>\n",
       "  <tbody>\n",
       "    <tr>\n",
       "      <th>12:47:27.22</th>\n",
       "      <td>-7.98680</td>\n",
       "      <td>-6.52642</td>\n",
       "      <td>0.28367</td>\n",
       "      <td>0.03333</td>\n",
       "      <td>0.0</td>\n",
       "      <td>-0.0</td>\n",
       "    </tr>\n",
       "    <tr>\n",
       "      <th>12:47:27.26</th>\n",
       "      <td>-7.98680</td>\n",
       "      <td>-6.52642</td>\n",
       "      <td>0.28367</td>\n",
       "      <td>0.03333</td>\n",
       "      <td>0.0</td>\n",
       "      <td>-0.0</td>\n",
       "    </tr>\n",
       "    <tr>\n",
       "      <th>12:47:27.28</th>\n",
       "      <td>-8.09339</td>\n",
       "      <td>-6.70965</td>\n",
       "      <td>0.28997</td>\n",
       "      <td>0.03333</td>\n",
       "      <td>0.0</td>\n",
       "      <td>-0.0</td>\n",
       "    </tr>\n",
       "    <tr>\n",
       "      <th>12:47:27.32</th>\n",
       "      <td>-8.09339</td>\n",
       "      <td>-6.70965</td>\n",
       "      <td>0.28997</td>\n",
       "      <td>0.03333</td>\n",
       "      <td>0.0</td>\n",
       "      <td>-0.0</td>\n",
       "    </tr>\n",
       "    <tr>\n",
       "      <th>12:47:27.34</th>\n",
       "      <td>-9.26388</td>\n",
       "      <td>-6.97198</td>\n",
       "      <td>0.30954</td>\n",
       "      <td>0.03333</td>\n",
       "      <td>0.0</td>\n",
       "      <td>-0.0</td>\n",
       "    </tr>\n",
       "  </tbody>\n",
       "</table>\n",
       "</div>"
      ],
      "text/plain": [
       "                AccX     AccY     AccZ    GyroX  GyroY  GyroZ\n",
       "Timestamp                                                    \n",
       "12:47:27.22 -7.98680 -6.52642  0.28367  0.03333    0.0   -0.0\n",
       "12:47:27.26 -7.98680 -6.52642  0.28367  0.03333    0.0   -0.0\n",
       "12:47:27.28 -8.09339 -6.70965  0.28997  0.03333    0.0   -0.0\n",
       "12:47:27.32 -8.09339 -6.70965  0.28997  0.03333    0.0   -0.0\n",
       "12:47:27.34 -9.26388 -6.97198  0.30954  0.03333    0.0   -0.0"
      ]
     },
     "execution_count": 2,
     "metadata": {},
     "output_type": "execute_result"
    }
   ],
   "source": [
    "df_up_down = pd.read_csv(\"UP/1.csv\", index_col=1)\n",
    "df_up_down.drop('Unnamed: 0', axis=1, inplace=True)\n",
    "\n",
    "df_up_down.head()"
   ]
  },
  {
   "cell_type": "code",
   "execution_count": 5,
   "metadata": {},
   "outputs": [
    {
     "name": "stdout",
     "output_type": "stream",
     "text": [
      "              AccX         AccY         AccZ        GyroX        GyroY  \\\n",
      "count  3642.000000  3642.000000  3642.000000  3642.000000  3642.000000   \n",
      "mean      0.380561    -1.407924     0.436414     0.127320    -0.098526   \n",
      "std       1.958696     1.540371     1.273312     0.513305     1.383396   \n",
      "min     -10.217100    -7.069980    -3.401030    -2.366670    -5.166670   \n",
      "25%      -0.810795    -2.383000    -0.347060    -0.066670    -0.400000   \n",
      "50%       0.352150    -1.285810     0.218680     0.033330     0.000000   \n",
      "75%       1.756000    -0.403190     0.920680     0.266670     0.300000   \n",
      "max       5.674890     3.020640     5.673720     2.133330     4.200000   \n",
      "\n",
      "             GyroZ  \n",
      "count  3642.000000  \n",
      "mean      0.066850  \n",
      "std       1.030198  \n",
      "min      -2.966670  \n",
      "25%      -0.366670  \n",
      "50%      -0.033330  \n",
      "75%       0.266670  \n",
      "max       3.233330  \n",
      "<class 'pandas.core.frame.DataFrame'>\n",
      "Index: 3642 entries, 12:47:27.22 to 12:49:21.80\n",
      "Data columns (total 6 columns):\n",
      " #   Column  Non-Null Count  Dtype  \n",
      "---  ------  --------------  -----  \n",
      " 0   AccX    3642 non-null   float64\n",
      " 1   AccY    3642 non-null   float64\n",
      " 2   AccZ    3642 non-null   float64\n",
      " 3   GyroX   3642 non-null   float64\n",
      " 4   GyroY   3642 non-null   float64\n",
      " 5   GyroZ   3642 non-null   float64\n",
      "dtypes: float64(6)\n",
      "memory usage: 199.2+ KB\n"
     ]
    }
   ],
   "source": [
    "print(df_up_down.describe())\n",
    "df_up_down.info()"
   ]
  },
  {
   "cell_type": "code",
   "execution_count": 7,
   "metadata": {},
   "outputs": [],
   "source": [
    "scaler = StandardScaler()\n",
    "X_scaled = scaler.fit_transform(df_up_down)"
   ]
  },
  {
   "cell_type": "code",
   "execution_count": 8,
   "metadata": {},
   "outputs": [
    {
     "name": "stderr",
     "output_type": "stream",
     "text": [
      "c:\\Users\\WilliamSanteramo\\OneDrive - ITS Angelo Rizzoli\\Documenti\\UFS\\15 IoT\\SmartSenseML\\bluetooth\\lib\\site-packages\\sklearn\\cluster\\_kmeans.py:1416: FutureWarning: The default value of `n_init` will change from 10 to 'auto' in 1.4. Set the value of `n_init` explicitly to suppress the warning\n",
      "  super()._check_params_vs_input(X, default_n_init=10)\n"
     ]
    }
   ],
   "source": [
    "kmeans = KMeans(n_clusters=3)\n",
    "kmeans.fit(X_scaled)\n",
    "\n",
    "labels = kmeans.labels_\n",
    "centroids = kmeans.cluster_centers_\n",
    "df_up_down['KMeans_3'] = labels"
   ]
  },
  {
   "cell_type": "code",
   "execution_count": null,
   "metadata": {},
   "outputs": [],
   "source": [
    "from sklearn.metrics import silhouette_score, davies_bouldin_score, calinski_harabasz_score, pairwise_distances\n",
    "\n",
    "silhouette = silhouette_score(X_scaled, labels, metric=metric)\n",
    "db_score = davies_bouldin_score(X_scaled, labels)\n",
    "ch_score = calinski_harabasz_score(X_scaled, labels)\n",
    "dunn = dunn_index(X_scaled, labels, centroids, metric=metric)"
   ]
  }
 ],
 "metadata": {
  "kernelspec": {
   "display_name": "bluetooth",
   "language": "python",
   "name": "python3"
  },
  "language_info": {
   "codemirror_mode": {
    "name": "ipython",
    "version": 3
   },
   "file_extension": ".py",
   "mimetype": "text/x-python",
   "name": "python",
   "nbconvert_exporter": "python",
   "pygments_lexer": "ipython3",
   "version": "3.8.10"
  }
 },
 "nbformat": 4,
 "nbformat_minor": 2
}
