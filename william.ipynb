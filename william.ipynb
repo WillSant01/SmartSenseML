{
 "cells": [
  {
   "cell_type": "code",
   "execution_count": 5,
   "metadata": {},
   "outputs": [],
   "source": [
    "import pandas as pd\n",
    "import numpy as np\n",
    "import matplotlib.pyplot as plt\n",
    "import seaborn as sns"
   ]
  },
  {
   "cell_type": "code",
   "execution_count": 12,
   "metadata": {},
   "outputs": [
    {
     "name": "stdout",
     "output_type": "stream",
     "text": [
      "                AccX     AccY     AccZ    GyroX  GyroY  GyroZ\n",
      "Timestamp                                                    \n",
      "12:47:27.22 -7.98680 -6.52642  0.28367  0.03333    0.0   -0.0\n",
      "12:47:27.26 -7.98680 -6.52642  0.28367  0.03333    0.0   -0.0\n",
      "12:47:27.28 -8.09339 -6.70965  0.28997  0.03333    0.0   -0.0\n",
      "12:47:27.32 -8.09339 -6.70965  0.28997  0.03333    0.0   -0.0\n",
      "12:47:27.34 -9.26388 -6.97198  0.30954  0.03333    0.0   -0.0\n",
      "                AccX     AccY     AccZ    GyroX    GyroY  GyroZ\n",
      "Timestamp                                                      \n",
      "12:54:42.53  3.38200 -2.03458  0.20468  0.03333  0.06667   -0.0\n",
      "12:54:42.56  3.30400 -1.99458  0.17857  0.00000  0.00000   -0.0\n",
      "12:54:42.60  3.51000 -2.06358  0.39041  0.03333  0.00000   -0.0\n",
      "12:54:42.62  3.26979 -2.03458  0.41052  0.03333  0.03333   -0.0\n",
      "12:54:42.66  2.87364 -1.99458  0.17760  0.00000  0.06667   -0.0\n"
     ]
    }
   ],
   "source": [
    "df_up_down = pd.read_csv(\"UP/1.csv\", index_col=1)\n",
    "df_up_down.drop('Unnamed: 0', axis=1, inplace=True)\n",
    "\n",
    "df_right_left = pd.read_csv(\"UP/2.csv\", index_col=1)\n",
    "df_right_left.drop('Unnamed: 0', axis=1, inplace=True)\n",
    "\n",
    "print(df_up_down.head())\n",
    "print(df_right_left.head())"
   ]
  },
  {
   "cell_type": "code",
   "execution_count": null,
   "metadata": {},
   "outputs": [],
   "source": []
  }
 ],
 "metadata": {
  "kernelspec": {
   "display_name": "bluetooth",
   "language": "python",
   "name": "python3"
  },
  "language_info": {
   "codemirror_mode": {
    "name": "ipython",
    "version": 3
   },
   "file_extension": ".py",
   "mimetype": "text/x-python",
   "name": "python",
   "nbconvert_exporter": "python",
   "pygments_lexer": "ipython3",
   "version": "3.8.10"
  }
 },
 "nbformat": 4,
 "nbformat_minor": 2
}
